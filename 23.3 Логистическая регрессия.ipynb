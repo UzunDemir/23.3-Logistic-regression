{
 "cells": [
  {
   "cell_type": "markdown",
   "id": "de80ccbc",
   "metadata": {},
   "source": [
    "Прогнозирование инсульта у пациентов на основе входных параметров"
   ]
  },
  {
   "cell_type": "code",
   "execution_count": 1,
   "id": "ef5fbbcd",
   "metadata": {
    "id": "ef5fbbcd"
   },
   "outputs": [],
   "source": [
    "# импортируем необходимые библиотеки\n",
    "import matplotlib.pyplot as plt\n",
    "import pandas as pd\n",
    "\n",
    "from sklearn.linear_model import LogisticRegression\n",
    "from sklearn.metrics import accuracy_score, confusion_matrix\n",
    "from sklearn.model_selection import train_test_split "
   ]
  },
  {
   "cell_type": "markdown",
   "id": "7d7c9b80",
   "metadata": {
    "id": "7d7c9b80"
   },
   "source": [
    "Описание данных: \n",
    "\n",
    "*gender* - пол\n",
    "\n",
    "*age*  - возраст\n",
    "\n",
    "*hypertension* - страдает ли пациент гипертонией\n",
    "\n",
    "*heart_disease* - есть ли болезни сердца\n",
    "\n",
    "*ever_married* - был ли женат/замужем\n",
    "\n",
    "*work_type*  - тип работы\n",
    "\n",
    "*Residence_type* - проживает в городе или селе\n",
    "\n",
    "*avg_glucose_level* - средний уровень глюкозы\n",
    "\n",
    "*bmi* - индекс массы тела\n",
    "\n",
    "*smoking_status* - информация о курении\n",
    "\n",
    "*stroke* - целевая переменная инсульт был или нет "
   ]
  },
  {
   "cell_type": "code",
   "execution_count": 2,
   "id": "fc0bbe42",
   "metadata": {
    "id": "fc0bbe42",
    "outputId": "d22d3363-56ad-4b6b-cd78-75da80244a94"
   },
   "outputs": [
    {
     "name": "stdout",
     "output_type": "stream",
     "text": [
      "(4000, 11)\n"
     ]
    },
    {
     "data": {
      "text/html": [
       "<div>\n",
       "<style scoped>\n",
       "    .dataframe tbody tr th:only-of-type {\n",
       "        vertical-align: middle;\n",
       "    }\n",
       "\n",
       "    .dataframe tbody tr th {\n",
       "        vertical-align: top;\n",
       "    }\n",
       "\n",
       "    .dataframe thead th {\n",
       "        text-align: right;\n",
       "    }\n",
       "</style>\n",
       "<table border=\"1\" class=\"dataframe\">\n",
       "  <thead>\n",
       "    <tr style=\"text-align: right;\">\n",
       "      <th></th>\n",
       "      <th>gender</th>\n",
       "      <th>age</th>\n",
       "      <th>hypertension</th>\n",
       "      <th>heart_disease</th>\n",
       "      <th>ever_married</th>\n",
       "      <th>work_type</th>\n",
       "      <th>Residence_type</th>\n",
       "      <th>avg_glucose_level</th>\n",
       "      <th>bmi</th>\n",
       "      <th>smoking_status</th>\n",
       "      <th>stroke</th>\n",
       "    </tr>\n",
       "  </thead>\n",
       "  <tbody>\n",
       "    <tr>\n",
       "      <th>0</th>\n",
       "      <td>Male</td>\n",
       "      <td>73</td>\n",
       "      <td>0</td>\n",
       "      <td>0</td>\n",
       "      <td>1</td>\n",
       "      <td>Private</td>\n",
       "      <td>1</td>\n",
       "      <td>143.509078</td>\n",
       "      <td>29.160236</td>\n",
       "      <td>formerly smoked</td>\n",
       "      <td>1</td>\n",
       "    </tr>\n",
       "    <tr>\n",
       "      <th>1</th>\n",
       "      <td>Female</td>\n",
       "      <td>49</td>\n",
       "      <td>0</td>\n",
       "      <td>0</td>\n",
       "      <td>1</td>\n",
       "      <td>Private</td>\n",
       "      <td>0</td>\n",
       "      <td>85.230000</td>\n",
       "      <td>25.400000</td>\n",
       "      <td>Unknown</td>\n",
       "      <td>0</td>\n",
       "    </tr>\n",
       "    <tr>\n",
       "      <th>2</th>\n",
       "      <td>Male</td>\n",
       "      <td>58</td>\n",
       "      <td>0</td>\n",
       "      <td>0</td>\n",
       "      <td>1</td>\n",
       "      <td>Private</td>\n",
       "      <td>0</td>\n",
       "      <td>197.174377</td>\n",
       "      <td>34.870606</td>\n",
       "      <td>formerly smoked</td>\n",
       "      <td>1</td>\n",
       "    </tr>\n",
       "    <tr>\n",
       "      <th>3</th>\n",
       "      <td>Female</td>\n",
       "      <td>69</td>\n",
       "      <td>0</td>\n",
       "      <td>0</td>\n",
       "      <td>1</td>\n",
       "      <td>Self-employed</td>\n",
       "      <td>1</td>\n",
       "      <td>99.680000</td>\n",
       "      <td>17.600000</td>\n",
       "      <td>formerly smoked</td>\n",
       "      <td>0</td>\n",
       "    </tr>\n",
       "    <tr>\n",
       "      <th>4</th>\n",
       "      <td>Male</td>\n",
       "      <td>60</td>\n",
       "      <td>0</td>\n",
       "      <td>0</td>\n",
       "      <td>1</td>\n",
       "      <td>Private</td>\n",
       "      <td>0</td>\n",
       "      <td>69.200000</td>\n",
       "      <td>30.900000</td>\n",
       "      <td>never smoked</td>\n",
       "      <td>0</td>\n",
       "    </tr>\n",
       "  </tbody>\n",
       "</table>\n",
       "</div>"
      ],
      "text/plain": [
       "   gender  age  hypertension  heart_disease  ever_married      work_type  \\\n",
       "0    Male   73             0              0             1        Private   \n",
       "1  Female   49             0              0             1        Private   \n",
       "2    Male   58             0              0             1        Private   \n",
       "3  Female   69             0              0             1  Self-employed   \n",
       "4    Male   60             0              0             1        Private   \n",
       "\n",
       "   Residence_type  avg_glucose_level        bmi   smoking_status  stroke  \n",
       "0               1         143.509078  29.160236  formerly smoked       1  \n",
       "1               0          85.230000  25.400000          Unknown       0  \n",
       "2               0         197.174377  34.870606  formerly smoked       1  \n",
       "3               1          99.680000  17.600000  formerly smoked       0  \n",
       "4               0          69.200000  30.900000     never smoked       0  "
      ]
     },
     "execution_count": 2,
     "metadata": {},
     "output_type": "execute_result"
    }
   ],
   "source": [
    "# загрузим датасет\n",
    "df = pd.read_csv('23.3 stroke_data.csv')\n",
    "print(df.shape)\n",
    "df.head()"
   ]
  },
  {
   "cell_type": "code",
   "execution_count": 3,
   "id": "447bd686",
   "metadata": {
    "id": "447bd686",
    "outputId": "dbf9eb6f-7a0c-4f71-e26e-0b7f912f5515"
   },
   "outputs": [
    {
     "data": {
      "text/plain": [
       "0    2027\n",
       "1    1973\n",
       "Name: stroke, dtype: int64"
      ]
     },
     "execution_count": 3,
     "metadata": {},
     "output_type": "execute_result"
    }
   ],
   "source": [
    "# посчитаем количества уникальных значений в df.stroke\n",
    "df.stroke.value_counts()"
   ]
  },
  {
   "cell_type": "markdown",
   "id": "85da4c01",
   "metadata": {},
   "source": [
    "0    2027\n",
    "1    1973\n",
    "Значения почти одинаковы, значит датасет сбалансирован"
   ]
  },
  {
   "cell_type": "code",
   "execution_count": 7,
   "id": "61a510a1",
   "metadata": {
    "id": "61a510a1",
    "outputId": "7d000f38-22e5-441b-edc4-018b30c2f48d"
   },
   "outputs": [
    {
     "data": {
      "text/plain": [
       "gender               False\n",
       "age                  False\n",
       "hypertension         False\n",
       "heart_disease        False\n",
       "ever_married         False\n",
       "work_type            False\n",
       "Residence_type       False\n",
       "avg_glucose_level    False\n",
       "bmi                  False\n",
       "smoking_status       False\n",
       "stroke               False\n",
       "dtype: bool"
      ]
     },
     "execution_count": 7,
     "metadata": {},
     "output_type": "execute_result"
    }
   ],
   "source": [
    "# проверим, ести ли пропущенные значения в датасете\n",
    "# команда any проверяет все записи по каждой колонке, если найдет хоть один пропуск - выдаст True\n",
    "df.isnull().any()"
   ]
  },
  {
   "cell_type": "markdown",
   "id": "f467128f",
   "metadata": {},
   "source": [
    "Пропущенных значений в столбцах нет"
   ]
  },
  {
   "cell_type": "markdown",
   "id": "38abafd7",
   "metadata": {},
   "source": [
    "Изучим особенности данных прежде чем изучать модель: \n",
    "- может какие-то из переменных заполнены одинаковыми значениями\n",
    "- дублируют друг друга\n",
    "тогда их нужно предварительно удалить из датасета\n",
    "или воспользоваться скелерами для стандартизации данных"
   ]
  },
  {
   "cell_type": "code",
   "execution_count": 4,
   "id": "d29dbe8f",
   "metadata": {
    "id": "d29dbe8f",
    "outputId": "3dfe7cd0-3d58-4d91-ec14-1c9b67bc6752"
   },
   "outputs": [
    {
     "data": {
      "image/png": "[encoded data removed]",
      "text/plain": [
       "<Figure size 432x288 with 1 Axes>"
      ]
     },
     "metadata": {
      "needs_background": "light"
     },
     "output_type": "display_data"
    }
   ],
   "source": [
    "# нарисуем график зависимости возраста от целевой переменной stroke\n",
    "plt.plot(df['age'], df.stroke, 'ro') \n",
    "plt.xlabel('age')\n",
    "plt.ylabel('stroke')\n",
    "plt.title('Зависимость целевой переменной от возраста')\n",
    "plt.show()"
   ]
  },
  {
   "cell_type": "code",
   "execution_count": 9,
   "id": "d63f54fd",
   "metadata": {
    "id": "d63f54fd"
   },
   "outputs": [],
   "source": [
    "# подготовим данные для обучения\n",
    "x = df.drop(['stroke'], axis=1)\n",
    "y = df.stroke\n"
   ]
  },
  {
   "cell_type": "code",
   "execution_count": 13,
   "id": "35e35a8a",
   "metadata": {
    "id": "35e35a8a"
   },
   "outputs": [],
   "source": [
    "# разделим данные на тренировочный и тестовый сеты в соотношении 70 на 30\n",
    "train_x, test_x, train_y, test_y = train_test_split(x, y, test_size=0.3, random_state=42)\n"
   ]
  },
  {
   "cell_type": "code",
   "execution_count": 14,
   "id": "45cd7306",
   "metadata": {
    "id": "45cd7306"
   },
   "outputs": [],
   "source": [
    "# вызовим модуль логистической регрессии\n",
    "logreg = LogisticRegression()"
   ]
  },
  {
   "cell_type": "code",
   "execution_count": 15,
   "id": "b85e3658",
   "metadata": {
    "id": "b85e3658",
    "outputId": "b479c601-7fb1-47e1-f330-b98f48c04506"
   },
   "outputs": [
    {
     "data": {
      "text/plain": [
       "LogisticRegression()"
      ]
     },
     "execution_count": 15,
     "metadata": {},
     "output_type": "execute_result"
    }
   ],
   "source": [
    "# обучим модель на примере одной переменной \"возраст\"\n",
    "train_cols = ['age']\n",
    "logreg.fit(train_x[train_cols], train_y)"
   ]
  },
  {
   "cell_type": "code",
   "execution_count": 16,
   "id": "567d1658",
   "metadata": {
    "id": "567d1658",
    "outputId": "cbeddaf7-583b-42eb-c096-dafb3122772f"
   },
   "outputs": [
    {
     "data": {
      "text/plain": [
       "0.7683333333333333"
      ]
     },
     "execution_count": 16,
     "metadata": {},
     "output_type": "execute_result"
    }
   ],
   "source": [
    "# найдем предикт на тестовых данных\n",
    "pred = logreg.predict(test_x[train_cols])\n",
    "accuracy_score(test_y, pred)"
   ]
  },
  {
   "cell_type": "code",
   "execution_count": 18,
   "id": "c94cb0e8",
   "metadata": {
    "id": "c94cb0e8",
    "outputId": "cea098e6-4064-4610-becb-650e9631e27e"
   },
   "outputs": [
    {
     "data": {
      "text/plain": [
       "array([[448, 156],\n",
       "       [122, 474]], dtype=int64)"
      ]
     },
     "execution_count": 18,
     "metadata": {},
     "output_type": "execute_result"
    }
   ],
   "source": [
    "# выведем матрицу ошибок\n",
    "confusion_matrix(test_y, pred)"
   ]
  },
  {
   "cell_type": "code",
   "execution_count": 19,
   "id": "11855aa3",
   "metadata": {
    "id": "11855aa3",
    "outputId": "0dc3076e-678a-44bd-872b-8f3c0b3720c0"
   },
   "outputs": [
    {
     "data": {
      "text/plain": [
       "LogisticRegression()"
      ]
     },
     "execution_count": 19,
     "metadata": {},
     "output_type": "execute_result"
    }
   ],
   "source": [
    "# добавим для обучения модели еще одну переменную 'heart_disease'\n",
    "train_cols = ['age', 'heart_disease']\n",
    "logreg.fit(train_x[train_cols], train_y)"
   ]
  },
  {
   "cell_type": "code",
   "execution_count": 20,
   "id": "9f7b7dd6",
   "metadata": {
    "id": "9f7b7dd6",
    "outputId": "1ef68038-d84a-4880-ff88-66866f462dfa"
   },
   "outputs": [
    {
     "name": "stdout",
     "output_type": "stream",
     "text": [
      "0.785\n"
     ]
    },
    {
     "data": {
      "text/plain": [
       "array([[457, 147],\n",
       "       [111, 485]], dtype=int64)"
      ]
     },
     "execution_count": 20,
     "metadata": {},
     "output_type": "execute_result"
    }
   ],
   "source": [
    "# найдем предикт на тестовых данных и выведем матрицу ошибок\n",
    "pred = logreg.predict(test_x[train_cols])\n",
    "print(accuracy_score(test_y, pred))\n",
    "confusion_matrix(test_y, pred)"
   ]
  },
  {
   "cell_type": "code",
   "execution_count": null,
   "id": "44e6df83",
   "metadata": {
    "id": "44e6df83",
    "outputId": "ba6938cd-8e03-4187-890c-4ede34653046"
   },
   "outputs": [
    {
     "data": {
      "text/plain": [
       "array([[0.85219662, 0.14780338],\n",
       "       [0.97878403, 0.02121597],\n",
       "       [0.83988949, 0.16011051],\n",
       "       ...,\n",
       "       [0.94222814, 0.05777186],\n",
       "       [0.99426236, 0.00573764],\n",
       "       [0.9923954 , 0.0076046 ]])"
      ]
     },
     "execution_count": 16,
     "metadata": {},
     "output_type": "execute_result"
    }
   ],
   "source": [
    "# predict_proba() – значения вероятностей для каждого наблюдения\n",
    "# то есть выдать «степень уверенности» в ответе (вероятность)\n",
    "# [0] - for class '0' 0.85219662 for class '0'\n",
    "# [1] - for class '1' 0.14780338 for class '1'\n",
    "logreg.predict_proba(test_x[train_cols])"
   ]
  },
  {
   "cell_type": "markdown",
   "id": "a07f4144",
   "metadata": {},
   "source": [
    "Можно самостоятельно регулировать предсказания классов используя вероятность"
   ]
  },
  {
   "cell_type": "code",
   "execution_count": 21,
   "id": "ca7c5c7b",
   "metadata": {
    "id": "ca7c5c7b",
    "outputId": "a2cf8858-4563-4ec8-ca99-ef93432fedb4"
   },
   "outputs": [
    {
     "data": {
      "text/plain": [
       "array([[ 0.0945283 , -1.22020129]])"
      ]
     },
     "execution_count": 21,
     "metadata": {},
     "output_type": "execute_result"
    }
   ],
   "source": [
    "# посмотрим, какие коэффициенты подобрала логистическая регрессия в решающей функции\n",
    "logreg.coef_"
   ]
  },
  {
   "cell_type": "code",
   "execution_count": 22,
   "id": "baff4dc8",
   "metadata": {
    "id": "baff4dc8",
    "outputId": "16a3bc49-c888-46f6-8e39-a993c7739ca3"
   },
   "outputs": [
    {
     "name": "stdout",
     "output_type": "stream",
     "text": [
      "Коэф при колонке age=0.09452830228833398\n",
      "Коэф при колонке heart_disease=-1.2202012869196788\n"
     ]
    }
   ],
   "source": [
    "# выведем коэффициенты для признаков в модели\n",
    "# + значит положительная корелляция к целевой переменной\n",
    "# - значит отрицательная корреляция к целевой переменной\n",
    "for col, i in zip(train_cols, logreg.coef_[0]):\n",
    "    print(f'Коэф при колонке {col}={i}')"
   ]
  },
  {
   "cell_type": "code",
   "execution_count": 23,
   "id": "b96710d2",
   "metadata": {
    "id": "b96710d2",
    "outputId": "4a6660d3-2987-4b8e-9184-0d60f2bc38d2"
   },
   "outputs": [
    {
     "data": {
      "text/plain": [
       "array([-5.43853816])"
      ]
     },
     "execution_count": 23,
     "metadata": {},
     "output_type": "execute_result"
    }
   ],
   "source": [
    "# выведем значение свободного члена\n",
    "logreg.intercept_"
   ]
  },
  {
   "cell_type": "code",
   "execution_count": null,
   "id": "192e6aa6",
   "metadata": {
    "id": "192e6aa6",
    "outputId": "04542a0a-48b7-445b-cebf-421336e86034"
   },
   "outputs": [
    {
     "data": {
      "text/plain": [
       "0.7725"
      ]
     },
     "execution_count": 20,
     "metadata": {},
     "output_type": "execute_result"
    }
   ],
   "source": [
    "# выведем качество модели логистической регрессии при обучении на тренировочной выборке\n",
    "logreg.score(train_x[train_cols], train_y)"
   ]
  },
  {
   "cell_type": "code",
   "execution_count": 24,
   "id": "82c2b51c",
   "metadata": {
    "id": "82c2b51c",
    "outputId": "557600cb-503f-48dc-df4c-60e63369fb97"
   },
   "outputs": [
    {
     "data": {
      "text/plain": [
       "{'C': 1.0,\n",
       " 'class_weight': None,\n",
       " 'dual': False,\n",
       " 'fit_intercept': True,\n",
       " 'intercept_scaling': 1,\n",
       " 'l1_ratio': None,\n",
       " 'max_iter': 100,\n",
       " 'multi_class': 'auto',\n",
       " 'n_jobs': None,\n",
       " 'penalty': 'l2',\n",
       " 'random_state': None,\n",
       " 'solver': 'lbfgs',\n",
       " 'tol': 0.0001,\n",
       " 'verbose': 0,\n",
       " 'warm_start': False}"
      ]
     },
     "execution_count": 24,
     "metadata": {},
     "output_type": "execute_result"
    }
   ],
   "source": [
    "# выведем параметры, которые использовались для обучения модели\n",
    "logreg.get_params()"
   ]
  },
  {
   "cell_type": "markdown",
   "id": "2acb2e13",
   "metadata": {},
   "source": [
    "Значения параметров можно менять для улучшения предсказательной способности модели.\n",
    "В логистической регрессии чаше всего можно получить улучшения настроив параметры регуляризации\n",
    "то есть штрафует модель за слишком высокие коэффициенты.\n",
    "Это позволяет сделать модель более общей, не затачивать ее под тренировочную выборку.\n",
    "За регуляризацию отвечает параметр\n",
    "'penalty' - штрафует модель за слишком высокие коэффициенты\n",
    "'C' - мощнесть регуляризации"
   ]
  },
  {
   "cell_type": "code",
   "execution_count": 68,
   "id": "6451db34",
   "metadata": {
    "id": "6451db34",
    "outputId": "8e370cf5-8a4b-44c7-a654-1625ebb3ada4"
   },
   "outputs": [
    {
     "name": "stderr",
     "output_type": "stream",
     "text": [
      "C:\\Users\\HP Z2\\anaconda3\\lib\\site-packages\\sklearn\\linear_model\\_sag.py:328: ConvergenceWarning: The max_iter was reached which means the coef_ did not converge\n",
      "  warnings.warn(\"The max_iter was reached which means \"\n"
     ]
    },
    {
     "data": {
      "text/plain": [
       "LogisticRegression(penalty='l1', solver='saga')"
      ]
     },
     "execution_count": 68,
     "metadata": {},
     "output_type": "execute_result"
    }
   ],
   "source": [
    "# настроим уровень регуляризации и проведем обучение с новыми параметрами\n",
    "logreg_tuned = LogisticRegression(penalty='l1', solver='saga')\n",
    "logreg_tuned.fit(train_x[train_cols], train_y)"
   ]
  },
  {
   "cell_type": "code",
   "execution_count": 69,
   "id": "869ce09e",
   "metadata": {
    "id": "869ce09e",
    "outputId": "73395932-9377-45ff-9e99-43692d808638"
   },
   "outputs": [
    {
     "name": "stdout",
     "output_type": "stream",
     "text": [
      "0.7858333333333334\n"
     ]
    },
    {
     "data": {
      "text/plain": [
       "array([[429, 175],\n",
       "       [ 82, 514]], dtype=int64)"
      ]
     },
     "execution_count": 69,
     "metadata": {},
     "output_type": "execute_result"
    }
   ],
   "source": [
    "# найдем предикт на тестовых данных и выведем матрицу ошибок\n",
    "pred2 = logreg_tuned.predict(test_x[train_cols])\n",
    "print(accuracy_score(test_y, pred2))\n",
    "confusion_matrix(test_y, pred2)"
   ]
  },
  {
   "cell_type": "code",
   "execution_count": 70,
   "id": "0a522f01",
   "metadata": {
    "id": "0a522f01",
    "outputId": "832b5a20-5503-4eb3-d1bd-803980309b34"
   },
   "outputs": [
    {
     "name": "stdout",
     "output_type": "stream",
     "text": [
      "Коэф при колонке age=0.06469579142788978\n",
      "Коэф при колонке heart_disease=-0.5193891259331939\n"
     ]
    }
   ],
   "source": [
    "# выведем коэффициенты для признаков в модели\n",
    "# + значит положительная корелляция к целевой переменной\n",
    "# - значит отрицательная корреляция к целевой переменной\n",
    "for col, i in zip(train_cols, logreg_tuned.coef_[0]):\n",
    "    print(f'Коэф при колонке {col}={i}')"
   ]
  },
  {
   "cell_type": "code",
   "execution_count": null,
   "id": "de65d38f",
   "metadata": {
    "id": "de65d38f"
   },
   "outputs": [],
   "source": []
  }
 ],
 "metadata": {
  "colab": {
   "name": "Логистическая регрессия.ipynb",
   "provenance": []
  },
  "kernelspec": {
   "display_name": "Python 3 (ipykernel)",
   "language": "python",
   "name": "python3"
  },
  "language_info": {
   "codemirror_mode": {
    "name": "ipython",
    "version": 3
   },
   "file_extension": ".py",
   "mimetype": "text/x-python",
   "name": "python",
   "nbconvert_exporter": "python",
   "pygments_lexer": "ipython3",
   "version": "3.9.7"
  }
 },
 "nbformat": 4,
 "nbformat_minor": 5
}
